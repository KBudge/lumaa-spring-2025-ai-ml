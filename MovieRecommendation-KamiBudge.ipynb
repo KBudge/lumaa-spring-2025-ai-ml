{
 "cells": [
  {
   "cell_type": "code",
   "execution_count": 10,
   "id": "f93116c9",
   "metadata": {},
   "outputs": [],
   "source": [
    "import numpy as np\n",
    "import pandas as pd\n",
    "import sklearn\n",
    "\n",
    "from sklearn.feature_extraction.text import TfidfVectorizer\n",
    "from sklearn.metrics.pairwise import cosine_similarity\n"
   ]
  },
  {
   "cell_type": "code",
   "execution_count": 11,
   "id": "d4419759",
   "metadata": {},
   "outputs": [],
   "source": [
    "#Load dataset\n",
    "url = \"https://raw.githubusercontent.com/KBudge/lumaa-spring-2025-ai-ml/refs/heads/main/Top100IMDBMovies.csv\"\n",
    "movies = pd.read_csv(url)\n",
    "\n",
    "#Only keep relevent columns\n",
    "movies = movies[['rank', 'title', 'description', 'genre']]\n",
    "movies = movies.set_index('rank')\n",
    "\n",
    "#Get rid of [] and '' in the genre column\n",
    "movies['genre'] = movies['genre'].str.replace(\"[\", \"\")\n",
    "movies['genre'] = movies['genre'].str.replace(\"'\", \"\")\n",
    "movies['genre'] = movies['genre'].str.replace(\"]\", \"\")\n",
    "\n",
    "#Combine title, description and genre columns into new column\n",
    "movies['title_description_genre'] = movies['title'] + \" \" + movies['description'] + \" \" + movies['genre']\n",
    "movies['title_description_genre'] = movies['title_description_genre'].str.replace(\".\", \"\")\n",
    "movies['title_description_genre'] = movies['title_description_genre'].str.replace(\",\", \"\")"
   ]
  },
  {
   "cell_type": "code",
   "execution_count": 12,
   "id": "f19ffa6f",
   "metadata": {},
   "outputs": [
    {
     "name": "stdout",
     "output_type": "stream",
     "text": [
      "Enter what you are looking for in a movie: I love thrilling action movies set in space, with a comedic twist.\n",
      "\n",
      "Top 5 movie recommendations based on your input:\n",
      "\n",
      "Similarity Score: 0.2120 - Aliens\n",
      "   Description: Fifty-seven years after surviving an apocalyptic attack aboard her space vessel by merciless space creatures, Officer Ripley awakens from hyper-sleep and tries to warn anyone who will listen about the predators.\n",
      "\n",
      "Similarity Score: 0.1746 - The Lord of the Rings: The Fellowship of the Ring\n",
      "   Description: A meek Hobbit from the Shire and eight companions set out on a journey to destroy the powerful One Ring and save Middle-earth from the Dark Lord Sauron.\n",
      "\n",
      "Similarity Score: 0.1295 - Interstellar\n",
      "   Description: A team of explorers travel through a wormhole in space in an attempt to ensure humanity's survival.\n",
      "\n",
      "Similarity Score: 0.1074 - WALL·E\n",
      "   Description: In the distant future, a small waste-collecting robot inadvertently embarks on a space journey that will ultimately decide the fate of mankind.\n",
      "\n",
      "Similarity Score: 0.0979 - City Lights\n",
      "   Description: With the aid of a wealthy erratic tippler, a dewy-eyed tramp who has fallen in love with a sightless flower girl accumulates money to be able to help her medically.\n",
      "\n"
     ]
    }
   ],
   "source": [
    "#Ask user to enter details for the movies they want\n",
    "user_input = input(\"Enter what you are looking for in a movie: \")\n",
    "\n",
    "#Function to vectorize and calculate cosine similarity and recommend top 5 movies\n",
    "def recommendations(user_input, movies, top_n=5):\n",
    "    \n",
    "    \n",
    "    \n",
    "    #Make user input lowercase\n",
    "    lower_input = user_input.lower()\n",
    "    \n",
    "    #Make title_description_genre column lowercase \n",
    "    lower_movies = movies.copy()\n",
    "    lower_movies['title_description_genre'] = lower_movies['title_description_genre'].str.lower()\n",
    "    \n",
    "    #Vectorization with English stop words\n",
    "    vec = TfidfVectorizer(stop_words='english')\n",
    "\n",
    "    #Fit transform on the title_description_genre column from dataset\n",
    "    tfidf_matrix = vec.fit_transform(lower_movies['title_description_genre'])\n",
    "    \n",
    "    #Transform user input using vectorization\n",
    "    user_tfidf = vec.transform([lower_input])\n",
    "    \n",
    "    #Calculate cosine similarity between user input and dataset\n",
    "    cos_sim = cosine_similarity(user_tfidf, tfidf_matrix).flatten()\n",
    "    \n",
    "    #Sort to get top 5 similar movies\n",
    "    top_5 = np.argsort(cos_sim)[::-1][:top_n]\n",
    "    \n",
    "    #Return the top 5 movies with title, desciption and simliarity scores\n",
    "    return movies.iloc[top_5][['title', 'description']].assign(score=cos_sim[top_5])\n",
    "\n",
    "\n",
    "\n",
    "#calls function to get recommendations\n",
    "top_matches = recommendations(user_input, movies)\n",
    "\n",
    "#Print the top 5 similar movies with their similarity score and description\n",
    "print(\"\\nTop 5 movie recommendations based on your input:\\n\")\n",
    "for _, row in top_matches.iterrows():\n",
    "    print(f\"Similarity Score: {row['score']:.4f} - {row['title']}\\n   Description: {row['description']}\\n\")"
   ]
  },
  {
   "cell_type": "code",
   "execution_count": null,
   "id": "ac21e3f3",
   "metadata": {},
   "outputs": [],
   "source": []
  }
 ],
 "metadata": {
  "kernelspec": {
   "display_name": "Python 3 (ipykernel)",
   "language": "python",
   "name": "python3"
  },
  "language_info": {
   "codemirror_mode": {
    "name": "ipython",
    "version": 3
   },
   "file_extension": ".py",
   "mimetype": "text/x-python",
   "name": "python",
   "nbconvert_exporter": "python",
   "pygments_lexer": "ipython3",
   "version": "3.12.3"
  }
 },
 "nbformat": 4,
 "nbformat_minor": 5
}
